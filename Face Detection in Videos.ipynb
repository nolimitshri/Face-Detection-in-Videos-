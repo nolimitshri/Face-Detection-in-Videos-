{
 "cells": [
  {
   "cell_type": "code",
   "execution_count": 1,
   "metadata": {},
   "outputs": [],
   "source": [
    "import cv2 as cv"
   ]
  },
  {
   "cell_type": "code",
   "execution_count": 2,
   "metadata": {},
   "outputs": [],
   "source": [
    "def rescaleFrame(frame, scale=0.75):\n",
    "  width = int(frame.shape[1]*scale)\n",
    "  height = int(frame.shape[0]*scale)\n",
    "\n",
    "  dimensions = (width, height)\n",
    "\n",
    "  return cv.resize(frame, dimensions, interpolation=cv.INTER_AREA)"
   ]
  },
  {
   "cell_type": "code",
   "execution_count": 3,
   "metadata": {},
   "outputs": [],
   "source": [
    "capture = cv.VideoCapture(\"video.mp4\")\n",
    "\n",
    "while True:\n",
    "    isTrue, frame = capture.read()\n",
    "    frame_resized = rescaleFrame(frame, 0.3)\n",
    "    \n",
    "    gray = cv.cvtColor(frame_resized, cv.COLOR_BGR2GRAY)\n",
    "    \n",
    "#     cv.imshow(\"Gray\", gray)\n",
    "    haar_cascade = cv.CascadeClassifier(\"haar_face.xml\")\n",
    "    \n",
    "    faces_rect = haar_cascade.detectMultiScale(gray, scaleFactor=1.1, minNeighbors=6)\n",
    "    \n",
    "#     print(f\"# of faces: {len(faces_rect)}\")\n",
    "\n",
    "    for (x,y,w,h) in faces_rect:\n",
    "        cv.rectangle(frame_resized, (x,y), (x+w,y+h), (0,255,0), thickness=3)\n",
    "    \n",
    "    cv.imshow(\"Gray\", frame_resized)\n",
    "    \n",
    "    if(cv.waitKey(20) & 0xFF==ord('d')):\n",
    "        break\n",
    "        \n",
    "capture.release()\n",
    "cv.destroyAllWindows()"
   ]
  }
 ],
 "metadata": {
  "kernelspec": {
   "display_name": "Python 3.8.5 ('base')",
   "language": "python",
   "name": "python3"
  },
  "language_info": {
   "codemirror_mode": {
    "name": "ipython",
    "version": 3
   },
   "file_extension": ".py",
   "mimetype": "text/x-python",
   "name": "python",
   "nbconvert_exporter": "python",
   "pygments_lexer": "ipython3",
   "version": "3.8.5"
  },
  "vscode": {
   "interpreter": {
    "hash": "69b87dab943396a875264667082ccc7ab49c1f5982dadfd14128b61b527a60eb"
   }
  }
 },
 "nbformat": 4,
 "nbformat_minor": 4
}
